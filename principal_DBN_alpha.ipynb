{
 "cells": [
  {
   "cell_type": "markdown",
   "metadata": {},
   "source": [
    "## Projet Deep Learning II - DBN"
   ]
  },
  {
   "cell_type": "code",
   "execution_count": null,
   "metadata": {},
   "outputs": [],
   "source": [
    "from models.RBM import RBM\n",
    "from models.DBN import DBN\n",
    "import numpy as np\n",
    "import matplotlib.pyplot as plt\n",
    "import scipy.io\n",
    "from PIL import Image\n",
    "import os"
   ]
  },
  {
   "cell_type": "markdown",
   "metadata": {},
   "source": [
    "### Fonctions pour traiter la donnée"
   ]
  },
  {
   "cell_type": "code",
   "execution_count": null,
   "metadata": {},
   "outputs": [],
   "source": [
    "def lire_alpha_digit(data,L):\n",
    "    X=data['dat'][L[0]]\n",
    "    for i in range(1,len(L)) :\n",
    "        X_bis=data['dat'][L[i]]\n",
    "        X=np.concatenate((X,X_bis),axis=0)\n",
    "    n=X.shape[0]\n",
    "    X=np.concatenate(X).reshape((n,320))\n",
    "    return X"
   ]
  },
  {
   "cell_type": "code",
   "execution_count": null,
   "metadata": {},
   "outputs": [],
   "source": [
    "def display_images(images, size):\n",
    "    resized_images = []\n",
    "    for img in images:\n",
    "        img_reshaped = img.reshape(size)\n",
    "        resized_images.append(img_reshaped)\n",
    "        plt.figure()\n",
    "        plt.imshow(img_reshaped, cmap='gray')\n",
    "        plt.show()\n",
    "    return resized_images"
   ]
  },
  {
   "cell_type": "code",
   "execution_count": null,
   "metadata": {},
   "outputs": [],
   "source": [
    "def export_images(images, model_name, num_iterations, num_hidden, output_folder):\n",
    "    model_folder = os.path.join(output_folder, model_name)\n",
    "    if not os.path.exists(model_folder):\n",
    "        os.makedirs(model_folder)\n",
    "\n",
    "    iteration_hidden_folder = os.path.join(model_folder, f\"iterations{num_iterations}_hidden{num_hidden}\")\n",
    "    if not os.path.exists(iteration_hidden_folder):\n",
    "        os.makedirs(iteration_hidden_folder)\n",
    "\n",
    "    for i, img in enumerate(images):\n",
    "        img_name = f\"{model_name}_{i}_iter{num_iterations}_hidden{num_hidden}.png\"\n",
    "        img_path = os.path.join(iteration_hidden_folder, img_name)\n",
    "        img = Image.fromarray((img * 255).astype('uint8'))\n",
    "        img.save(img_path)\n",
    "        print(f\"Image {img_name} exportée avec succès dans {iteration_hidden_folder}\")"
   ]
  },
  {
   "cell_type": "markdown",
   "metadata": {},
   "source": [
    "#### Import de la donnée"
   ]
  },
  {
   "cell_type": "code",
   "execution_count": null,
   "metadata": {},
   "outputs": [],
   "source": [
    "data = scipy.io.loadmat('./data/binaryalphadigs.mat')\n",
    "size_img = data['dat'][0][0].shape"
   ]
  },
  {
   "cell_type": "markdown",
   "metadata": {},
   "source": [
    "#### Configuration"
   ]
  },
  {
   "cell_type": "code",
   "execution_count": null,
   "metadata": {},
   "outputs": [],
   "source": [
    "# Configuration DBN\n",
    "characters = [3] # Les chiffres sur lesquels on veut entrainer le DBN\n",
    "pixels = size_img[0] * size_img[1]  # Nombre de pixels dans chaque image\n",
    "n_hidden = 500  # Nombre de neurones cachés\n",
    "n_visible = 100 # Nombre de neurones visibles\n",
    "layer_sizes = [pixels, n_visible, n_hidden]  # Définir les tailles des couches du DBN\n",
    "num_iterations = 1000 # Nombre d'itérations\n",
    "learning_rate = 0.02 # Taux d'apprentissage\n",
    "batch_size = 10 # Taille du batch\n",
    "num_images_to_generate = 5 # Nombre d'images à générer\n",
    "num_iterations_images = 100 # Nombre d'itérations pour générer les images"
   ]
  },
  {
   "cell_type": "code",
   "execution_count": null,
   "metadata": {},
   "outputs": [],
   "source": [
    "X = lire_alpha_digit(data, characters)"
   ]
  },
  {
   "cell_type": "markdown",
   "metadata": {},
   "source": [
    "#### DBN"
   ]
  },
  {
   "cell_type": "code",
   "execution_count": null,
   "metadata": {},
   "outputs": [],
   "source": [
    "# Initialisation du DBN\n",
    "dbn = DBN()\n",
    "dbn.init_DBN(layer_sizes)"
   ]
  },
  {
   "cell_type": "code",
   "execution_count": null,
   "metadata": {},
   "outputs": [],
   "source": [
    "# Entraînement du DBN\n",
    "dbn.train_DBN(num_iterations, learning_rate, batch_size, X)"
   ]
  },
  {
   "cell_type": "code",
   "execution_count": null,
   "metadata": {},
   "outputs": [],
   "source": [
    "# Génération d'images avec le DBN\n",
    "generated_images = dbn.generer_image_DBN(num_images_to_generate, num_iterations_images)\n",
    "resized_images = display_images(generated_images, size_img)"
   ]
  },
  {
   "cell_type": "markdown",
   "metadata": {},
   "source": [
    "#### Export du résultat"
   ]
  },
  {
   "cell_type": "code",
   "execution_count": null,
   "metadata": {},
   "outputs": [],
   "source": [
    "export_images(resized_images, \"DBN\", num_iterations, n_hidden, \"output\")"
   ]
  }
 ],
 "metadata": {
  "kernelspec": {
   "display_name": "base",
   "language": "python",
   "name": "python3"
  },
  "language_info": {
   "codemirror_mode": {
    "name": "ipython",
    "version": 3
   },
   "file_extension": ".py",
   "mimetype": "text/x-python",
   "name": "python",
   "nbconvert_exporter": "python",
   "pygments_lexer": "ipython3",
   "version": "3.11.7"
  }
 },
 "nbformat": 4,
 "nbformat_minor": 2
}
